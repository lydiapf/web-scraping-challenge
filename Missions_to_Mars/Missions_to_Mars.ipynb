{
 "cells": [
  {
   "cell_type": "code",
   "execution_count": 1,
   "metadata": {},
   "outputs": [],
   "source": [
    "# Dependencies\n",
    "from bs4 import BeautifulSoup as bs\n",
    "from splinter import Browser\n",
    "import pandas as pd\n",
    "import time\n",
    "from selenium import webdriver"
   ]
  },
  {
   "cell_type": "code",
   "execution_count": 2,
   "metadata": {},
   "outputs": [],
   "source": [
    "mars = {}"
   ]
  },
  {
   "cell_type": "code",
   "execution_count": 3,
   "metadata": {},
   "outputs": [
    {
     "name": "stderr",
     "output_type": "stream",
     "text": [
      "which: no chromedriver in (/c/Users/lydiapf/anaconda3/envs/PythonData:/c/Users/lydiapf/anaconda3/envs/PythonData/Library/mingw-w64/bin:/c/Users/lydiapf/anaconda3/envs/PythonData/Library/usr/bin:/c/Users/lydiapf/anaconda3/envs/PythonData/Library/bin:/c/Users/lydiapf/anaconda3/envs/PythonData/Scripts:/c/Users/lydiapf/anaconda3/envs/PythonData/bin:C:/Users/lydiapf/anaconda3:C:/Users/lydiapf/anaconda3/Library/mingw-w64/bin:C:/Users/lydiapf/anaconda3/Library/usr/bin:C:/Users/lydiapf/anaconda3/Library/bin:C:/Users/lydiapf/anaconda3/Scripts:C:/Users/lydiapf/anaconda3/bin:C:/Users/lydiapf/anaconda3/Scripts/condabin:/c/Users/lydiapf/bin:/mingw64/bin:/usr/local/bin:/usr/bin:/usr/bin:/mingw64/bin:/usr/bin:/c/Users/lydiapf/bin:/c/Windows/system32:/c/Windows:/c/Windows/System32/Wbem:/c/Windows/System32/WindowsPowerShell/v1.0:/c/Windows/System32/OpenSSH:/c/Program Files/Condusiv Technologies/ExpressCache:/c/Program Files (x86)/PharosSystems/Core:/c/Program Files/Intel/WiFi/bin:/c/Program Files/Common Files/Intel/WirelessCommon:/cmd:/c/Users/lydiapf/anaconda3:/c/Users/lydiapf/anaconda3/Library/mingw-w64/bin:/c/Users/lydiapf/anaconda3/Library/usr/bin:/c/Users/lydiapf/anaconda3/Library/bin:/c/Users/lydiapf/anaconda3/Scripts:/c/Users/lydiapf/AppData/Local/Microsoft/WindowsApps:/c/Program Files/Intel/WiFi/bin:/c/Program Files/Common Files/Intel/WirelessCommon:/c/Users/lydiapf/AppData/Local/Programs/Microsoft VS Code/bin:/c/Program Files/MongoDB/Server/4.4/bin:/usr/bin/vendor_perl:/usr/bin/core_perl)\n"
     ]
    }
   ],
   "source": [
    "# Chromedriver\n",
    "!which chromedriver"
   ]
  },
  {
   "cell_type": "code",
   "execution_count": 4,
   "metadata": {},
   "outputs": [],
   "source": [
    "# NASA Mars News"
   ]
  },
  {
   "cell_type": "code",
   "execution_count": 5,
   "metadata": {},
   "outputs": [],
   "source": [
    "executable_path = {'executable_path': 'chromedriver'}\n",
    "browser = Browser('chrome', **executable_path, headless=False)\n",
    "browser.visit('https://mars.nasa.gov/news/')"
   ]
  },
  {
   "cell_type": "code",
   "execution_count": 6,
   "metadata": {},
   "outputs": [],
   "source": [
    "# Parse the html result with soup \n",
    "html = browser.html\n",
    "soup = bs(html, 'html.parser')"
   ]
  },
  {
   "cell_type": "code",
   "execution_count": 7,
   "metadata": {},
   "outputs": [],
   "source": [
    "# \n",
    "news_title = soup.select_one('div.content_title a').text"
   ]
  },
  {
   "cell_type": "code",
   "execution_count": 8,
   "metadata": {},
   "outputs": [],
   "source": [
    "# Retrieve the latest paragraph\n",
    "news_p = soup.select_one('div.article_teaser_body').text\n",
    "mars[\"news_title\"] = news_title\n",
    "mars[\"news_p\"] = news_p"
   ]
  },
  {
   "cell_type": "code",
   "execution_count": 9,
   "metadata": {},
   "outputs": [
    {
     "name": "stdout",
     "output_type": "stream",
     "text": [
      "The latest news title is: MOXIE Could Help Future Rockets Launch Off Mars \n",
      "The paragraph text is: NASA's Perseverance rover carries a device to convert Martian air into oxygen that, if produced on a larger scale, could be used not just for breathing, but also for fuel.\n"
     ]
    }
   ],
   "source": [
    "# Create print statement of the latest news title and paragraph text\n",
    "print(f'The latest news title is: {news_title} \\nThe paragraph text is: {news_p}')"
   ]
  },
  {
   "cell_type": "code",
   "execution_count": 10,
   "metadata": {},
   "outputs": [],
   "source": [
    "# JPL Mars Space Images - Featured Image"
   ]
  },
  {
   "cell_type": "code",
   "execution_count": 11,
   "metadata": {},
   "outputs": [],
   "source": [
    "#Visit Image Url\n",
    "img_url = 'https://www.jpl.nasa.gov/spaceimages/?search=&category=Mars'\n",
    "browser.visit(img_url)"
   ]
  },
  {
   "cell_type": "code",
   "execution_count": 12,
   "metadata": {},
   "outputs": [],
   "source": [
    "# Find the full image botton and click\n",
    "img_elem = browser.find_by_id('full_image')\n",
    "img_elem.click()"
   ]
  },
  {
   "cell_type": "code",
   "execution_count": 13,
   "metadata": {},
   "outputs": [],
   "source": [
    "# Find the more info button and click\n",
    "browser.is_element_present_by_text('more info', wait_time=3)\n",
    "more_info_elem = browser.links.find_by_partial_text('more info')\n",
    "more_info_elem.click()"
   ]
  },
  {
   "cell_type": "code",
   "execution_count": 14,
   "metadata": {},
   "outputs": [],
   "source": [
    "# Parse the html result with soup\n",
    "img_html = browser.html\n",
    "img_soup = bs(img_html, 'html.parser')"
   ]
  },
  {
   "cell_type": "code",
   "execution_count": 15,
   "metadata": {},
   "outputs": [
    {
     "data": {
      "text/plain": [
       "'/spaceimages/images/largesize/PIA18848_hires.jpg'"
      ]
     },
     "execution_count": 15,
     "metadata": {},
     "output_type": "execute_result"
    }
   ],
   "source": [
    "# Find the relative image url\n",
    "img_url_rel = img_soup.select_one('figure.lede a img').get(\"src\")\n",
    "img_url_rel"
   ]
  },
  {
   "cell_type": "code",
   "execution_count": 16,
   "metadata": {},
   "outputs": [],
   "source": [
    "# Use the base url to create an absolute url\n",
    "img_url = f'https://www.jpl.nasa.gov{img_url_rel}'\n",
    "img_url\n",
    "mars[\"featured_image\"] = img_url"
   ]
  },
  {
   "cell_type": "code",
   "execution_count": 17,
   "metadata": {},
   "outputs": [],
   "source": [
    "# Mars Facts"
   ]
  },
  {
   "cell_type": "code",
   "execution_count": 18,
   "metadata": {},
   "outputs": [],
   "source": [
    "# URL\n",
    "facts_url = 'https://space-facts.com/mars/'\n",
    "\n",
    "# Read html by Pandas\n",
    "tables = pd.read_html(facts_url)\n",
    "\n",
    "# Slice off dataframes that needed\n",
    "mars_df = tables[0]\n",
    "\n",
    "# Set columns\n",
    "mars_df.columns = ['Description', 'Mars']\n",
    "mars_df.set_index('Description', inplace=True)\n",
    "\n",
    "mars_html = mars_df.to_html()\n",
    "\n",
    "mars_html\n",
    "\n",
    "mars[\"facts\"] = mars_html"
   ]
  },
  {
   "cell_type": "code",
   "execution_count": 19,
   "metadata": {},
   "outputs": [],
   "source": [
    "hem_list = ['Cerberus', 'Schiaparelli', 'Syrtis', 'Valles']\n",
    "hemisphere_image_urls = []\n",
    "\n",
    "for hem in hem_list:\n",
    "    # Visit URL\n",
    "    hem_url = 'https://astrogeology.usgs.gov/search/results?q=hemisphere+enhanced&k1=target&v1=Mars'\n",
    "    browser.visit(hem_url)\n",
    "    \n",
    "    # Find the hemisphere images and click\n",
    "    hem_elem = browser.links.find_by_partial_text(hem)\n",
    "    hem_elem.click()\n",
    "    \n",
    "    # Find original to download full img\n",
    "    hem_elem_org = browser.find_by_text(\"Original\", wait_time=1)\n",
    "    hem_elem_org.click()\n",
    "    \n",
    "    # Scrape the Mars website \n",
    "    hem_html = browser.html\n",
    "    hem_soup = bs(hem_html, 'html.parser')\n",
    "    \n",
    "    hem_title = hem_soup.h2.text\n",
    "    hem_url = hem_soup.select_one('li a')['href']\n",
    "    \n",
    "    hem_dict = {\n",
    "        'title': hem_title,\n",
    "        'img_url': hem_url\n",
    "    }\n",
    "    \n",
    "    hemisphere_image_urls.append(hem_dict)"
   ]
  },
  {
   "cell_type": "code",
   "execution_count": 20,
   "metadata": {},
   "outputs": [],
   "source": [
    "hemisphere_image_urls\n",
    "\n",
    "mars[\"hemispheres\"] = hemisphere_image_urls"
   ]
  }
 ],
 "metadata": {
  "kernelspec": {
   "display_name": "Python [conda env:PythonData] *",
   "language": "python",
   "name": "conda-env-PythonData-py"
  },
  "language_info": {
   "codemirror_mode": {
    "name": "ipython",
    "version": 3
   },
   "file_extension": ".py",
   "mimetype": "text/x-python",
   "name": "python",
   "nbconvert_exporter": "python",
   "pygments_lexer": "ipython3",
   "version": "3.6.10"
  }
 },
 "nbformat": 4,
 "nbformat_minor": 4
}
